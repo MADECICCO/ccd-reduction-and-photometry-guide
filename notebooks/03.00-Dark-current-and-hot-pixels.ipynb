{
 "cells": [
  {
   "cell_type": "markdown",
   "metadata": {},
   "source": [
    "# Dark current and hot pixels\n"
   ]
  }
 ],
 "metadata": {},
 "nbformat": 4,
 "nbformat_minor": 2
}
