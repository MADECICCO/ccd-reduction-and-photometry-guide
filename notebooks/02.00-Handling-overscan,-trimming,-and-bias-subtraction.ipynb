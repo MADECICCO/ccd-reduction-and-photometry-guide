{
 "cells": [
  {
   "cell_type": "markdown",
   "metadata": {},
   "source": [
    "# Handling overscan, trimming, and bias subtraction\n"
   ]
  },
  {
   "cell_type": "markdown",
   "metadata": {},
   "source": [
    "The bias in a CCD camera is a DC offset applied to all pixels so that when the voltage in each pixel is converted to a number the number will always be positive. In an ideal CCD the bias would be the same for every pixel and not change over time. In practice, the bias is slightly different for each pixel, and can vary by a count or two from night to night or during a night.\n",
    "\n",
    "A bias *image* is a picture taken with the shutter close and zero exposure time; think about it as a command to the camera to do whatever it usually does to prepare the camera's electronics to take an image and then immediately read out the CCD as though you had taken a picture.\n",
    "\n",
    "The discussion of bias assumes you have taken images with an overscan region. If your images do not have overscan, simply skip those steps."
   ]
  },
  {
   "cell_type": "markdown",
   "metadata": {},
   "source": [
    "The progression here is to \"calibrate\" the bias images by subtracting overscan (again, simply skip that if your images do not have overscan), trim the overscan from the bias images and combine all of the bias images to make a \"master\" bias. "
   ]
  },
  {
   "cell_type": "code",
   "execution_count": null,
   "metadata": {},
   "outputs": [],
   "source": [
    "from astropy.nddata import CCDData\n",
    "from astropy.visualization import hist\n",
    "\n",
    "import matplotlib.pyplot as plt\n",
    "\n",
    "from convenience_functions import show_image\n",
    "\n",
    "download_base_url = 'http://physics.mnstate.edu/craig/ccd-guide/'"
   ]
  },
  {
   "cell_type": "markdown",
   "metadata": {},
   "source": [
    "## A sample bias image\n",
    "\n",
    "The image below is a single bias frame from an [Andor Apogee Aspen CG16M](http://www.andor.com/pdfs/specifications/Apogee_Aspen_CG16M_Specifications.pdf), a low-end 4k × 4k CCD with a [Kodak KAF-16803 sensor chip](http://www.onsemi.com/pub/Collateral/KAF-16803-D.PDF). That model camera has a typical bias level around 1000 and read noise around 10 e$^-$, though the precise value from camera to camera."
   ]
  },
  {
   "cell_type": "code",
   "execution_count": null,
   "metadata": {},
   "outputs": [],
   "source": [
    "one_bias = CCDData.read(download_base_url + 'dark-test-0100bias.fit', unit='adu')"
   ]
  },
  {
   "cell_type": "code",
   "execution_count": null,
   "metadata": {},
   "outputs": [],
   "source": [
    "show_image(one_bias, cmap='gray')"
   ]
  },
  {
   "cell_type": "markdown",
   "metadata": {},
   "source": [
    "Note a few things:\n",
    "\n",
    "+ The bias level in this specific camera is about 1023 (the mid-range of the colorbar).\n",
    "+ The image is brighter on the left and right edges. This \"amplifier glow\" is frequently present and caused by the CCD electronics.\n",
    "+ There are several vertical lines; these are columns for which the bias level is consistently higher.\n",
    "+ There is noticeable \"static\" in the images; that is read noise.\n",
    "+ None of the variations are particularly large. "
   ]
  },
  {
   "cell_type": "code",
   "execution_count": null,
   "metadata": {},
   "outputs": [],
   "source": [
    "hist(one_bias.data.flatten(), bins=800)\n",
    "\n",
    "plt.grid()\n",
    "plt.xlim(975, 1150)"
   ]
  },
  {
   "cell_type": "code",
   "execution_count": null,
   "metadata": {},
   "outputs": [],
   "source": [
    "master = CCDData.read(download_base_url + 'master_bias.fit', unit='adu')"
   ]
  },
  {
   "cell_type": "markdown",
   "metadata": {},
   "source": [
    "### 100 bias images combined"
   ]
  },
  {
   "cell_type": "code",
   "execution_count": null,
   "metadata": {},
   "outputs": [],
   "source": [
    "show_image(master, cmap='gray')"
   ]
  },
  {
   "cell_type": "markdown",
   "metadata": {},
   "source": [
    "## Cross-section \n",
    "\n",
    "Discuss edges, sensor glow, overscan."
   ]
  },
  {
   "cell_type": "code",
   "execution_count": null,
   "metadata": {},
   "outputs": [],
   "source": [
    "plt.figure(figsize=(20,10))\n",
    "plt.plot(one_bias.data[1000, :], label='single image')\n",
    "plt.plot(master.data[1000, :], label='100 combined')\n",
    "plt.grid()\n",
    "plt.legend()\n",
    "#plt.xlim(4000, 4110)"
   ]
  },
  {
   "cell_type": "markdown",
   "metadata": {},
   "source": [
    "## Pixel histogram\n",
    "\n",
    "More combined means narrower distribution (less noise)"
   ]
  },
  {
   "cell_type": "code",
   "execution_count": null,
   "metadata": {},
   "outputs": [],
   "source": [
    "hist(one_bias.data.flatten(), bins=800, alpha=0.5, label='One bias image')\n",
    "hist(master.data.flatten(), bins=800, alpha=0.5, label='100 bias images combined')\n",
    "plt.semilogy()\n",
    "plt.grid()\n",
    "plt.legend()\n",
    "plt.xlim(900, 1400)"
   ]
  },
  {
   "cell_type": "markdown",
   "metadata": {},
   "source": [
    "### Histogram excluding left/right edges of the sensor"
   ]
  },
  {
   "cell_type": "code",
   "execution_count": null,
   "metadata": {},
   "outputs": [],
   "source": [
    "hist(one_bias.data[:, 5:-15].flatten(), bins=4000, alpha=0.5, label='One bias image')\n",
    "hist(master.data[:, 5:-15].flatten(), bins=4000, alpha=0.5, label='100 bias images combined')\n",
    "#plt.semilogy()\n",
    "plt.grid()\n",
    "plt.legend()\n",
    "plt.xlim(980, 1060)"
   ]
  },
  {
   "cell_type": "code",
   "execution_count": null,
   "metadata": {},
   "outputs": [],
   "source": []
  }
 ],
 "metadata": {
  "kernelspec": {
   "display_name": "Python 3",
   "language": "python",
   "name": "python3"
  },
  "language_info": {
   "codemirror_mode": {
    "name": "ipython",
    "version": 3
   },
   "file_extension": ".py",
   "mimetype": "text/x-python",
   "name": "python",
   "nbconvert_exporter": "python",
   "pygments_lexer": "ipython3",
   "version": "3.6.4"
  }
 },
 "nbformat": 4,
 "nbformat_minor": 2
}
