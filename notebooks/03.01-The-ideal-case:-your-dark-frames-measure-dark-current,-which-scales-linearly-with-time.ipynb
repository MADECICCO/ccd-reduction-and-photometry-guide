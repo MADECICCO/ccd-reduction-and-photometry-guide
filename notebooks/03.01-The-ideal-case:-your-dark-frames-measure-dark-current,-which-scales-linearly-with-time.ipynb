{
 "cells": [
  {
   "cell_type": "markdown",
   "metadata": {},
   "source": [
    "# The ideal case: your dark frames measure dark current, which scales linearly with time\n"
   ]
  }
 ],
 "metadata": {},
 "nbformat": 4,
 "nbformat_minor": 2
}
