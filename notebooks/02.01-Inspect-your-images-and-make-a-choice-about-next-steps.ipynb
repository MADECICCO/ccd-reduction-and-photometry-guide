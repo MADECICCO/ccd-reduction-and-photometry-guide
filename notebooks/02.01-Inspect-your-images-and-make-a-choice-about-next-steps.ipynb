{
 "cells": [
  {
   "cell_type": "markdown",
   "metadata": {},
   "source": [
    "# Inspect your images and make a choice about next steps\n"
   ]
  }
 ],
 "metadata": {},
 "nbformat": 4,
 "nbformat_minor": 2
}
